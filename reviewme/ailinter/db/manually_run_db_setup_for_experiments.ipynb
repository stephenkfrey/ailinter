{
 "cells": [
  {
   "attachments": {},
   "cell_type": "markdown",
   "metadata": {},
   "source": [
    "## setup"
   ]
  },
  {
   "cell_type": "code",
   "execution_count": 3,
   "metadata": {},
   "outputs": [],
   "source": [
    "\n",
    "import os\n",
    "import sys\n",
    "sys.path.insert(0, './local_db')\n",
    "\n",
    "from local_db.db_functions import create_db, load_db, write_issue, read_issues"
   ]
  },
  {
   "cell_type": "code",
   "execution_count": 4,
   "metadata": {},
   "outputs": [
    {
     "name": "stdout",
     "output_type": "stream",
     "text": [
      "Current Working Directory: /Users/stephen/Dev/Endeva/prompt-design-iteration/prompt_design\n",
      "Notebook's Parent Path: /Users/stephen/Dev/Endeva/prompt-design-iteration\n",
      "Changing the working directory to the notebook's parent path.\n"
     ]
    }
   ],
   "source": [
    "import os\n",
    "import pathlib\n",
    "\n",
    "def set_working_directory_to_parent():\n",
    "    # Get the current working directory\n",
    "    current_working_dir = os.getcwd()\n",
    "    \n",
    "    # Get the absolute parent path of the IPython notebook\n",
    "    # This assumes that the notebook server was started in the same directory as the notebook\n",
    "    notebook_path = os.path.join(current_working_dir, '')\n",
    "    parent_path = str(pathlib.Path(notebook_path).parent.absolute())\n",
    "    \n",
    "    print(f\"Current Working Directory: {current_working_dir}\")\n",
    "    print(f\"Notebook's Parent Path: {parent_path}\")\n",
    "    \n",
    "    # Check if the current working directory is the same as the notebook's parent path\n",
    "    if current_working_dir == parent_path:\n",
    "        print(\"The working directory is already set to the notebook's parent path.\")\n",
    "    else:\n",
    "        print(\"Changing the working directory to the notebook's parent path.\")\n",
    "        os.chdir(parent_path)\n",
    "        \n",
    "# Run the function to set the working directory\n",
    "set_working_directory_to_parent()\n"
   ]
  },
  {
   "cell_type": "code",
   "execution_count": 5,
   "metadata": {},
   "outputs": [],
   "source": [
    "# Now you can load the database\n",
    "session = load_db('test_db')\n",
    "write_issue(session, 'devaaaaaaa', 'What would need to be true about human nature to render inconsequential the challenges and shortcomings of arriving at broad global consensus in a quick and equitable manner?', this_response, 'conversation_history', \n",
    "'prompt', 'retrievals')"
   ]
  },
  {
   "attachments": {},
   "cell_type": "markdown",
   "metadata": {},
   "source": [
    "## Let's do it"
   ]
  },
  {
   "attachments": {},
   "cell_type": "markdown",
   "metadata": {},
   "source": []
  }
 ],
 "metadata": {
  "kernelspec": {
   "display_name": "aieng",
   "language": "python",
   "name": "python3"
  },
  "language_info": {
   "codemirror_mode": {
    "name": "ipython",
    "version": 3
   },
   "file_extension": ".py",
   "mimetype": "text/x-python",
   "name": "python",
   "nbconvert_exporter": "python",
   "pygments_lexer": "ipython3",
   "version": "3.10.0"
  },
  "orig_nbformat": 4
 },
 "nbformat": 4,
 "nbformat_minor": 2
}