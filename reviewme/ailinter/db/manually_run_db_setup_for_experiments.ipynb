{
 "cells": [
  {
   "attachments": {},
   "cell_type": "markdown",
   "metadata": {},
   "source": [
    "## setup"
   ]
  },
  {
   "cell_type": "code",
   "execution_count": null,
   "metadata": {},
   "outputs": [],
   "source": [
    "\n",
    "import os\n",
    "import sys\n",
    "\n",
    "from db_functions import create_db, load_db, write_issue, read_issues"
   ]
  },
  {
   "cell_type": "code",
   "execution_count": null,
   "metadata": {},
   "outputs": [],
   "source": [
    "create_db('test_db')\n",
    "\n",
    "# Now you can load the database and write to it\n",
    "session = load_db('test_db')"
   ]
  },
  {
   "cell_type": "code",
   "execution_count": null,
   "metadata": {},
   "outputs": [],
   "source": [
    "import os\n",
    "import pathlib\n",
    "\n",
    "def set_working_directory_to_parent():\n",
    "    # Get the current working directory\n",
    "    current_working_dir = os.getcwd()\n",
    "    \n",
    "    # Get the absolute parent path of the IPython notebook\n",
    "    # This assumes that the notebook server was started in the same directory as the notebook\n",
    "    notebook_path = os.path.join(current_working_dir, '')\n",
    "    parent_path = str(pathlib.Path(notebook_path).parent.absolute())\n",
    "    \n",
    "    print(f\"Current Working Directory: {current_working_dir}\")\n",
    "    print(f\"Notebook's Parent Path: {parent_path}\")\n",
    "    \n",
    "    # Check if the current working directory is the same as the notebook's parent path\n",
    "    if current_working_dir == parent_path:\n",
    "        print(\"The working directory is already set to the notebook's parent path.\")\n",
    "    else:\n",
    "        print(\"Changing the working directory to the notebook's parent path.\")\n",
    "        os.chdir(parent_path)\n",
    "        \n",
    "# Run the function to set the working directory\n",
    "set_working_directory_to_parent()\n"
   ]
  },
  {
   "cell_type": "code",
   "execution_count": null,
   "metadata": {},
   "outputs": [],
   "source": [
    "\n",
    "# Load the database\n",
    "session = load_db('test_db')\n",
    "\n",
    "# Define the parameters for the new issue\n",
    "rating = 'High'  # This should match a value from RatingEnum\n",
    "category = 'Logic'  # This should match a value from CategoryEnum\n",
    "status = 'Open'\n",
    "fail = 'Failed to execute logic correctly'\n",
    "fix = 'Update the logic to handle edge cases'\n",
    "parent_review_id = '12345'\n",
    "\n",
    "# Write the new issue to the database\n",
    "write_issue(session, rating, category, status, fail, fix, parent_review_id)"
   ]
  },
  {
   "attachments": {},
   "cell_type": "markdown",
   "metadata": {},
   "source": [
    "## Let's do it"
   ]
  },
  {
   "attachments": {},
   "cell_type": "markdown",
   "metadata": {},
   "source": [
    "\n",
    "# Read the issues from the database to verify the new issue was added\n",
    "issues = read_issues(session)\n",
    "for issue in issues:\n",
    "    print(f'Issue ID: {issue.id}, Rating: {issue.rating}, Category: {issue.category}')"
   ]
  }
 ],
 "metadata": {
  "kernelspec": {
   "display_name": "aieng",
   "language": "python",
   "name": "python3"
  },
  "language_info": {
   "codemirror_mode": {
    "name": "ipython",
    "version": 3
   },
   "file_extension": ".py",
   "mimetype": "text/x-python",
   "name": "python",
   "nbconvert_exporter": "python",
   "pygments_lexer": "ipython3",
   "version": "3.10.0"
  },
  "orig_nbformat": 4
 },
 "nbformat": 4,
 "nbformat_minor": 2
}
